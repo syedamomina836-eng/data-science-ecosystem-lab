{
 "cells": [
  {
   "cell_type": "markdown",
   "id": "dfb2220a-0806-4749-b3aa-ca36f2187e97",
   "metadata": {},
   "source": [
    "# Data Science Tools and Ecosystem"
   ]
  },
  {
   "cell_type": "markdown",
   "id": "8b3f06a1-b45d-42fd-8091-672857d4d865",
   "metadata": {},
   "source": [
    "In this notebook, Data Science Tools and Ecosystem are summarized."
   ]
  },
  {
   "cell_type": "markdown",
   "id": "98b49fb4-329f-48e1-a208-d2a82c8bc76e",
   "metadata": {},
   "source": [
    "**Objectives:**\n",
    "* Learning different programming languages\n",
    "* Learning data science tools\n",
    "* learn how to excel in data science field"
   ]
  },
  {
   "cell_type": "markdown",
   "id": "8eb2df66-f385-4506-8ac8-c351fe6b1482",
   "metadata": {},
   "source": [
    "Some of the popular languages that Data Scientists use are:\n",
    "1. Python\n",
    "2. java\n",
    "3. C++"
   ]
  },
  {
   "cell_type": "markdown",
   "id": "d79a44de-ff4a-4ffd-8731-946a5a3e991b",
   "metadata": {},
   "source": [
    "Some of the commonly used libraries used by Data Scientists include:\n",
    "1. Pandas\n",
    "2. numpy\n",
    "3. Matplotlib"
   ]
  },
  {
   "cell_type": "markdown",
   "id": "43a550a6-ab9f-47b2-8a7c-c8e743022f14",
   "metadata": {},
   "source": [
    "|Data Science Tools|\n",
    "|----------|\n",
    "|Jupyter notebook|\n",
    "|Rstudio|\n",
    "|Visual studio code|"
   ]
  },
  {
   "cell_type": "markdown",
   "id": "7fbbcb8d-1f60-43fb-8231-ab3b24a561ca",
   "metadata": {},
   "source": [
    "### Below are a few examples of evaluating arithmetic expressions in Python"
   ]
  },
  {
   "cell_type": "code",
   "execution_count": 2,
   "id": "077175da-ce08-41ae-b13e-1de5433af198",
   "metadata": {},
   "outputs": [
    {
     "data": {
      "text/plain": [
       "17"
      ]
     },
     "execution_count": 2,
     "metadata": {},
     "output_type": "execute_result"
    }
   ],
   "source": [
    "# This a simple arithmetic expression to mutiply then add integers\n",
    "(3*4)+5"
   ]
  },
  {
   "cell_type": "code",
   "execution_count": 3,
   "id": "5846f91d-01e7-4a8a-8806-6e091e95977c",
   "metadata": {},
   "outputs": [
    {
     "data": {
      "text/plain": [
       "3.3333333333333335"
      ]
     },
     "execution_count": 3,
     "metadata": {},
     "output_type": "execute_result"
    }
   ],
   "source": [
    "# This will convert 200 minutes to hours by diving by 60\n",
    "(1/60)*200"
   ]
  },
  {
   "cell_type": "markdown",
   "id": "677ec08f-a098-4677-9dca-ca61b40e9e36",
   "metadata": {},
   "source": [
    "## Author\n",
    "Syeda Momina"
   ]
  },
  {
   "cell_type": "code",
   "execution_count": null,
   "id": "1e1b1989-d5d3-4f97-a633-90f71c9f79d1",
   "metadata": {},
   "outputs": [],
   "source": []
  }
 ],
 "metadata": {
  "kernelspec": {
   "display_name": "Python 3 (ipykernel)",
   "language": "python",
   "name": "python3"
  },
  "language_info": {
   "codemirror_mode": {
    "name": "ipython",
    "version": 3
   },
   "file_extension": ".py",
   "mimetype": "text/x-python",
   "name": "python",
   "nbconvert_exporter": "python",
   "pygments_lexer": "ipython3",
   "version": "3.10.19"
  }
 },
 "nbformat": 4,
 "nbformat_minor": 5
}
